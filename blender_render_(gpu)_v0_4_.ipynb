{
  "nbformat": 4,
  "nbformat_minor": 0,
  "metadata": {
    "colab": {
      "name": "blender render (gpu) v0.4 .ipynb",
      "provenance": [],
      "collapsed_sections": [],
      "authorship_tag": "ABX9TyNO8SqBtYjX84mbPvSukUs5",
      "include_colab_link": true
    },
    "kernelspec": {
      "display_name": "Python 3",
      "name": "python3"
    }
  },
  "cells": [
    {
      "cell_type": "markdown",
      "metadata": {
        "id": "view-in-github",
        "colab_type": "text"
      },
      "source": [
        "<a href=\"https://colab.research.google.com/github/HxX2/Blender-colab/blob/main/blender_render_(gpu)_v0_4_.ipynb\" target=\"_parent\"><img src=\"https://colab.research.google.com/assets/colab-badge.svg\" alt=\"Open In Colab\"/></a>"
      ]
    },
    {
      "cell_type": "code",
      "metadata": {
        "cellView": "form",
        "id": "TR6XGxkt17-f"
      },
      "source": [
        "#@markdown <br><center><img src='https://upload.wikimedia.org/wikipedia/commons/thumb/d/da/Google_Drive_logo.png/600px-Google_Drive_logo.png' height=\"50\" alt=\"Gdrive-logo\"/></center>\n",
        "#@markdown <center><h3>Mount Gdrive to <b>/content/drive</b></h3></center><br>\n",
        "MODE = \"MOUNT\" #@param [\"MOUNT\", \"UNMOUNT\"]\n",
        "Dir_Path = \"\"\n",
        "#Mount your Gdrive! \n",
        "from google.colab import drive\n",
        "drive.mount._DEBUG = False\n",
        "if MODE == \"MOUNT\":\n",
        "  drive.mount('/content/drive', force_remount=True)\n",
        "elif MODE == \"UNMOUNT\":\n",
        "  try:\n",
        "    drive.flush_and_unmount()\n",
        "  except ValueError:\n",
        "    pass\n",
        "  get_ipython().system_raw(\"rm -rf /root/.config/Google/DriveFS\")\n"
      ],
      "execution_count": null,
      "outputs": []
    },
    {
      "cell_type": "code",
      "metadata": {
        "id": "F5vZwPfYenN8",
        "cellView": "form"
      },
      "source": [
        "#@markdown <br><center><img src='https://upload.wikimedia.org/wikipedia/commons/thumb/0/0c/Blender_logo_no_text.svg/512px-Blender_logo_no_text.svg.png' height=\"50\" alt=\"Gdrive-logo\"/></center>\n",
        "#@markdown <center><h3><b>Blender Parameters</center><br>\n",
        "Blender_Version = 'Blender 2.81' #@param [\"Blender 2.79\", \"Blender 2.80\", \"Blender 2.81\", \"Blender 2.82\", \"Blender 2.83.0\", \"Blender 2.83.3\", \"Blender 2.90.0\", \"Blender 2.91.0\"]\n",
        "filepath = '/content/drive/Shareddrives/Server/BlenderFiles/boxsmoke.blend' #@param {type: \"string\"}\n",
        "renderer = \"CYCLES\" #@param [\"CYCLES\", \"BLENDER_RENDER\"]\n",
        "device = \"CUDA\" #@param [\"CPU\", \"CUDA\", \"CUDA+CPU\", \"OPTIX\"]\n",
        "output_name = \"frame\" #@param {type: \"string\"}\n",
        "oname = \"//Render/{}_#\" .format(output_name)\n",
        "\n",
        "def path_leaf(path):\n",
        "  import ntpath\n",
        "  head, tail = ntpath.split(path)\n",
        "  return tail or ntpath.basename(head)\n",
        "\n",
        "dls = {\n",
        "    \"Blender 2.79\": \"https://download.blender.org/release/Blender2.79/blender-2.79-linux-glibc219-i686.tar.bz2\",\n",
        "    \"Blender 2.80\": \"https://download.blender.org/release/Blender2.80/blender-2.80-linux-glibc217-x86_64.tar.bz2\",\n",
        "    \"Blender 2.81\": \"https://download.blender.org/release/Blender2.81/blender-2.81-linux-glibc217-x86_64.tar.bz2\",\n",
        "    \"Blender 2.82\": \"https://download.blender.org/release/Blender2.82/blender-2.82-linux64.tar.xz\",\n",
        "    \"Blender 2.83.0\": \"https://download.blender.org/release/Blender2.83/blender-2.83.0-linux64.tar.xz\",\n",
        "    \"Blender 2.83.3\": \"https://download.blender.org/release/Blender2.83/blender-2.83.3-linux64.tar.xz\",\n",
        "    \"Blender 2.90.0\": \"https://download.blender.org/release/Blender2.90/blender-2.90.0-linux64.tar.xz\",\n",
        "    \"Blender 2.91.0\" : \"https://download.blender.org/release/Blender2.91/blender-2.91.0-linux64.tar.xz\"\n",
        "}\n",
        "\n",
        "dl = dls[Blender_Version]"
      ],
      "execution_count": null,
      "outputs": []
    },
    {
      "cell_type": "code",
      "metadata": {
        "id": "KF8EV4K52DgM",
        "cellView": "form"
      },
      "source": [
        "#@title ← Download and install blender\r\n",
        "!wget $dl\r\n",
        "!tar xf blender*\r\n",
        "!apt-get upgrade"
      ],
      "execution_count": null,
      "outputs": []
    },
    {
      "cell_type": "code",
      "metadata": {
        "id": "RjLXuPc94MRF",
        "cellView": "form"
      },
      "source": [
        "#@title ← Render an Animation\r\n",
        "start_frame = 1 #@param {type: \"number\"}\r\n",
        "end_frame = 90  #@param {type: \"number\"}\r\n",
        "!sudo ./blender*/blender -b $filepath -noaudio -E 'CYCLES' -o $oname -s $start_frame -e $end_frame -a -- --cycles-device $device"
      ],
      "execution_count": null,
      "outputs": []
    },
    {
      "cell_type": "code",
      "metadata": {
        "id": "AtLEg7k_4X4R",
        "cellView": "form"
      },
      "source": [
        "#@title ← Render a Still Frame\r\n",
        "frame = 140  #@param {type: \"number\"}\r\n",
        "file_type = \"png\" #@param [\"png\",\"jpeg\",\"tga\"]\r\n",
        "\r\n",
        "def path_leaf(path):\r\n",
        "  import ntpath\r\n",
        "  head, tail = ntpath.split(path)\r\n",
        "  return tail or ntpath.basename(head)\r\n",
        "\r\n",
        "ext_array = {\r\n",
        "    \"png\" : \"PNG\",\r\n",
        "    \"jpeg\" : \"JPEG\",\r\n",
        "    \"tga\" : \"TGA\"\r\n",
        "}\r\n",
        "\r\n",
        "ext = ext_array[file_type]\r\n",
        "\r\n",
        "!sudo ./blender*/blender -b $filepath -noaudio -E 'CYCLES' -o $oname -f $frame -F $ext -- --cycles-device $device"
      ],
      "execution_count": null,
      "outputs": []
    },
    {
      "cell_type": "code",
      "metadata": {
        "id": "ZjClP_03T4Nu",
        "cellView": "form"
      },
      "source": [
        "#@title ← Display last rendered image\r\n",
        "from IPython.display import Image\r\n",
        "output_file= \"/content/drive/Shareddrives/Server/BlenderFiles/Render/{}_{}.{}\" .format(output_name,frame, file_type)\r\n",
        "Image(filename=output_file)"
      ],
      "execution_count": null,
      "outputs": []
    }
  ]
}